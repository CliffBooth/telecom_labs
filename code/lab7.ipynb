{
  "nbformat": 4,
  "nbformat_minor": 0,
  "metadata": {
    "colab": {
      "name": "lab7.ipynb",
      "provenance": [],
      "collapsed_sections": [],
      "authorship_tag": "ABX9TyPsNhhF8o/1G8ehZtiT3hXR",
      "include_colab_link": true
    },
    "kernelspec": {
      "name": "python3",
      "display_name": "Python 3"
    },
    "language_info": {
      "name": "python"
    }
  },
  "cells": [
    {
      "cell_type": "markdown",
      "metadata": {
        "id": "view-in-github",
        "colab_type": "text"
      },
      "source": [
        "<a href=\"https://colab.research.google.com/github/CliffBooth/telecom_labs/blob/main/code/lab7.ipynb\" target=\"_parent\"><img src=\"https://colab.research.google.com/assets/colab-badge.svg\" alt=\"Open In Colab\"/></a>"
      ]
    },
    {
      "cell_type": "code",
      "execution_count": 21,
      "metadata": {
        "id": "-xDajxH7wu0f"
      },
      "outputs": [],
      "source": [
        "# Get thinkdsp.py\n",
        "import os\n",
        "if not os.path.exists('thinkdsp.py'):\n",
        "    !wget https://github.com/AllenDowney/ThinkDSP/raw/master/code/thinkdsp.py\n",
        "from thinkdsp import *\n",
        "from IPython.core.interactiveshell import InteractiveShell\n",
        "import numpy as np\n",
        "InteractiveShell.ast_node_interactivity = 'all'"
      ]
    },
    {
      "cell_type": "markdown",
      "source": [
        "# **Лабараторная работа №7**\n",
        "\n",
        "**Exercise #7.2**\n",
        "\n",
        "In this chapter, I showed how we can express the DFT and\n",
        "inverse DFT as matrix multiplications. These operations take time propor-\n",
        "tional to N 2, where N is the length of the wave array. That is fast enough for\n",
        "many applications, but there is a faster algorithm, the Fast Fourier Transform\n",
        "(FFT), which takes time proportional to N log N .\n",
        "\n",
        "the key to the FFT is the Danielson-Lanczos lemma:\n",
        "`DFT(y)[n] = DFT(e)[n] + exp(−2πin/N )DFT(o)[n]`\n",
        "Where DF T (y)[n] is the nth element of the DFT of y; e is a wave array\n",
        "containing the even elements of y, and o contains the odd elements of y.\n",
        "This lemma suggests a recursive algorithm for the DFT:\n",
        "1. Given a wave array, y, split it into its even elements, e, and its odd\n",
        "elements, o.\n",
        "2. Compute the DFT of e and o by making recursive calls.\n",
        "3. Compute DFT(y) for each value of n using the Danielson-Lanczos\n",
        "lemma.\n",
        "\n",
        "For the base case of this recursion, you could wait until the length of y is\n",
        "1 . In that case, DFT(y) = y. Or if the length of y is sufficiently small, you\n",
        "could compute its DFT by matrix multiplication, possibly using a precomputed\n",
        "matrix."
      ],
      "metadata": {
        "id": "M7oaF7jlwwPn"
      }
    },
    {
      "cell_type": "markdown",
      "source": [
        "Нужно реализовать алгоритм БПФ, упомянутая Danielson-Lanczos lemma предпологает рукурсивную реализацию алгоритма.\n",
        "\n",
        "Библиотечный алгоритм fft:\n"
      ],
      "metadata": {
        "id": "mYibjI-m5_tJ"
      }
    },
    {
      "cell_type": "code",
      "source": [
        "ys = [0.4, 0.2, 0.5, -0.3]\n",
        "hs = np.fft.fft(ys)\n",
        "print(hs)"
      ],
      "metadata": {
        "colab": {
          "base_uri": "https://localhost:8080/"
        },
        "id": "6C0yIPFP5_KR",
        "outputId": "9bc0595d-2a73-4774-e3e2-f89117b5c358"
      },
      "execution_count": 22,
      "outputs": [
        {
          "output_type": "stream",
          "name": "stdout",
          "text": [
            "[ 0.8+0.j  -0.1-0.5j  1. +0.j  -0.1+0.5j]\n"
          ]
        }
      ]
    },
    {
      "cell_type": "markdown",
      "source": [
        "Реализация DFT из учебника"
      ],
      "metadata": {
        "id": "X7fRECsa7fzh"
      }
    },
    {
      "cell_type": "code",
      "source": [
        "def dft(ys):\n",
        "  N = len(ys)\n",
        "  ts = np.arange(N) / N\n",
        "  freqs = np.arange(N)\n",
        "  args = np.outer(ts, freqs)\n",
        "  M = np.exp(1j * PI2 * args)\n",
        "  amps = M.conj().transpose().dot(ys)\n",
        "  return amps"
      ],
      "metadata": {
        "id": "mY_4Rtvk7aUa"
      },
      "execution_count": 23,
      "outputs": []
    },
    {
      "cell_type": "markdown",
      "source": [
        "Увидим, что получаем такой же результат, что и от библиотечной функции (не считая погрешность)"
      ],
      "metadata": {
        "id": "0KLwAT_j-una"
      }
    },
    {
      "cell_type": "code",
      "source": [
        "hs2 = dft(ys)\n",
        "np.sum(np.abs(hs - hs2))"
      ],
      "metadata": {
        "colab": {
          "base_uri": "https://localhost:8080/"
        },
        "id": "agXQBUcz73Ey",
        "outputId": "e24982b0-e043-48d2-94d2-f1aa4a7efbff"
      },
      "execution_count": 24,
      "outputs": [
        {
          "output_type": "execute_result",
          "data": {
            "text/plain": [
              "5.777195988230628e-16"
            ]
          },
          "metadata": {},
          "execution_count": 24
        }
      ]
    },
    {
      "cell_type": "markdown",
      "source": [
        "Напишем нерекурсивную функцию, которая разделит входной массив на подмассивы четных и нечетных элементов и использует библиотечную функцию для расчета БПФ подмассивов.\n"
      ],
      "metadata": {
        "id": "suE5gIPz-lYK"
      }
    },
    {
      "cell_type": "code",
      "source": [
        "def fft_norec(ys):\n",
        "  N = len(ys)\n",
        "  He = np.fft.fft(ys[::2])\n",
        "  Ho = np.fft.fft(ys[1::2])\n",
        "  ns = np.arange(N)\n",
        "  W = np.exp(-1j * PI2 * ns / N)\n",
        "  return np.tile(He, 2) + W * np.tile(Ho, 2)"
      ],
      "metadata": {
        "id": "sQgC_pB3-OEr"
      },
      "execution_count": 25,
      "outputs": []
    },
    {
      "cell_type": "markdown",
      "source": [
        "Результат, как видно, остается таким же"
      ],
      "metadata": {
        "id": "TtoQkGpJ_ypU"
      }
    },
    {
      "cell_type": "code",
      "source": [
        "hs3 = fft_norec(ys)\n",
        "np.sum(np.abs(hs - hs3))"
      ],
      "metadata": {
        "colab": {
          "base_uri": "https://localhost:8080/"
        },
        "id": "yQSKQhaW_6E7",
        "outputId": "a7dba6c7-99a8-4d2f-f279-905a20df6f6b"
      },
      "execution_count": 26,
      "outputs": [
        {
          "output_type": "execute_result",
          "data": {
            "text/plain": [
              "1.3714655826180364e-16"
            ]
          },
          "metadata": {},
          "execution_count": 26
        }
      ]
    },
    {
      "cell_type": "markdown",
      "source": [
        "Теперь, напишем рекурсивное решение:"
      ],
      "metadata": {
        "id": "9mqd3Kz6ATKq"
      }
    },
    {
      "cell_type": "code",
      "source": [
        "def fft(ys):\n",
        "  N = len(ys)\n",
        "  if N == 1:\n",
        "    return ys\n",
        "  He = fft(ys[::2])\n",
        "  Ho = fft(ys[1::2])\n",
        "  ns = np.arange(N)\n",
        "  W = np.exp(-1j * PI2 * ns / N)\n",
        "  return np.tile(He, 2) + W * np.tile(Ho, 2)"
      ],
      "metadata": {
        "id": "PZzWgvx_AX_6"
      },
      "execution_count": 29,
      "outputs": []
    },
    {
      "cell_type": "markdown",
      "source": [
        "Убедимся, что получаем такой же результат:"
      ],
      "metadata": {
        "id": "vZRdvc2CAo4r"
      }
    },
    {
      "cell_type": "code",
      "source": [
        "hs4 = fft(ys)\n",
        "np.sum(np.abs(hs - hs4))"
      ],
      "metadata": {
        "id": "bnQlLaxKAtBj",
        "colab": {
          "base_uri": "https://localhost:8080/"
        },
        "outputId": "17ca7d30-5ad0-41d7-d6b8-6a866bfdacd6"
      },
      "execution_count": 30,
      "outputs": [
        {
          "output_type": "execute_result",
          "data": {
            "text/plain": [
              "2.7984961504774455e-16"
            ]
          },
          "metadata": {},
          "execution_count": 30
        }
      ]
    }
  ]
}